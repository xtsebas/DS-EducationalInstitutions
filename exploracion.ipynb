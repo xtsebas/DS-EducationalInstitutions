{
 "cells": [
  {
   "cell_type": "code",
   "execution_count": 2,
   "id": "7dfe2bcf",
   "metadata": {},
   "outputs": [],
   "source": [
    "import pandas as pd\n",
    "import glob\n",
    "import os\n"
   ]
  },
  {
   "cell_type": "markdown",
   "id": "a647b50a",
   "metadata": {},
   "source": [
    "# Conteo por cada csv"
   ]
  },
  {
   "cell_type": "code",
   "execution_count": null,
   "id": "63be8e71",
   "metadata": {},
   "outputs": [
    {
     "name": "stdout",
     "output_type": "stream",
     "text": [
      "Archivo: alta verapaz.csv\n",
      "Encabezados: ['CODIGO', 'DISTRITO', 'DEPARTAMENTO', 'MUNICIPIO', 'ESTABLECIMIENTO', 'DIRECCION', 'TELEFONO', 'SUPERVISOR', 'DIRECTOR', 'NIVEL', 'SECTOR', 'AREA', 'STATUS', 'MODALIDAD', 'JORNADA', 'PLAN', 'DEPARTAMENTAL']\n",
      "Número de columnas: 17\n",
      "Número de filas: 295\n",
      "----------------------------------------\n",
      "Archivo: bajaverapaz.csv\n",
      "Encabezados: ['CODIGO', 'DISTRITO', 'DEPARTAMENTO', 'MUNICIPIO', 'ESTABLECIMIENTO', 'DIRECCION', 'TELEFONO', 'SUPERVISOR', 'DIRECTOR', 'NIVEL', 'SECTOR', 'AREA', 'STATUS', 'MODALIDAD', 'JORNADA', 'PLAN', 'DEPARTAMENTAL']\n",
      "Número de columnas: 17\n",
      "Número de filas: 95\n",
      "----------------------------------------\n",
      "Archivo: chimaltenango.csv\n",
      "Encabezados: ['CODIGO', 'DISTRITO', 'DEPARTAMENTO', 'MUNICIPIO', 'ESTABLECIMIENTO', 'DIRECCION', 'TELEFONO', 'SUPERVISOR', 'DIRECTOR', 'NIVEL', 'SECTOR', 'AREA', 'STATUS', 'MODALIDAD', 'JORNADA', 'PLAN', 'DEPARTAMENTAL']\n",
      "Número de columnas: 17\n",
      "Número de filas: 305\n",
      "----------------------------------------\n",
      "Archivo: chiquimula.csv\n",
      "Encabezados: ['CODIGO', 'DISTRITO', 'DEPARTAMENTO', 'MUNICIPIO', 'ESTABLECIMIENTO', 'DIRECCION', 'TELEFONO', 'SUPERVISOR', 'DIRECTOR', 'NIVEL', 'SECTOR', 'AREA', 'STATUS', 'MODALIDAD', 'JORNADA', 'PLAN', 'DEPARTAMENTAL']\n",
      "Número de columnas: 17\n",
      "Número de filas: 137\n",
      "----------------------------------------\n",
      "Archivo: ciudadcapital.csv\n",
      "Encabezados: ['CODIGO', 'DISTRITO', 'DEPARTAMENTO', 'MUNICIPIO', 'ESTABLECIMIENTO', 'DIRECCION', 'TELEFONO', 'SUPERVISOR', 'DIRECTOR', 'NIVEL', 'SECTOR', 'AREA', 'STATUS', 'MODALIDAD', 'JORNADA', 'PLAN', 'DEPARTAMENTAL']\n",
      "Número de columnas: 17\n",
      "Número de filas: 868\n",
      "----------------------------------------\n",
      "Archivo: elprogreso.csv\n",
      "Encabezados: ['CODIGO', 'DISTRITO', 'DEPARTAMENTO', 'MUNICIPIO', 'ESTABLECIMIENTO', 'DIRECCION', 'TELEFONO', 'SUPERVISOR', 'DIRECTOR', 'NIVEL', 'SECTOR', 'AREA', 'STATUS', 'MODALIDAD', 'JORNADA', 'PLAN', 'DEPARTAMENTAL']\n",
      "Número de columnas: 17\n",
      "Número de filas: 98\n",
      "----------------------------------------\n",
      "Archivo: escuintla.csv\n",
      "Encabezados: ['CODIGO', 'DISTRITO', 'DEPARTAMENTO', 'MUNICIPIO', 'ESTABLECIMIENTO', 'DIRECCION', 'TELEFONO', 'SUPERVISOR', 'DIRECTOR', 'NIVEL', 'SECTOR', 'AREA', 'STATUS', 'MODALIDAD', 'JORNADA', 'PLAN', 'DEPARTAMENTAL']\n",
      "Número de columnas: 17\n",
      "Número de filas: 394\n",
      "----------------------------------------\n",
      "Archivo: guatemala.csv\n",
      "Encabezados: ['CODIGO', 'DISTRITO', 'DEPARTAMENTO', 'MUNICIPIO', 'ESTABLECIMIENTO', 'DIRECCION', 'TELEFONO', 'SUPERVISOR', 'DIRECTOR', 'NIVEL', 'SECTOR', 'AREA', 'STATUS', 'MODALIDAD', 'JORNADA', 'PLAN', 'DEPARTAMENTAL']\n",
      "Número de columnas: 17\n",
      "Número de filas: 1038\n",
      "----------------------------------------\n",
      "Archivo: huehuetenango.csv\n",
      "Encabezados: ['CODIGO', 'DISTRITO', 'DEPARTAMENTO', 'MUNICIPIO', 'ESTABLECIMIENTO', 'DIRECCION', 'TELEFONO', 'SUPERVISOR', 'DIRECTOR', 'NIVEL', 'SECTOR', 'AREA', 'STATUS', 'MODALIDAD', 'JORNADA', 'PLAN', 'DEPARTAMENTAL']\n",
      "Número de columnas: 17\n",
      "Número de filas: 295\n",
      "----------------------------------------\n",
      "Archivo: izabal.csv\n",
      "Encabezados: ['CODIGO', 'DISTRITO', 'DEPARTAMENTO', 'MUNICIPIO', 'ESTABLECIMIENTO', 'DIRECCION', 'TELEFONO', 'SUPERVISOR', 'DIRECTOR', 'NIVEL', 'SECTOR', 'AREA', 'STATUS', 'MODALIDAD', 'JORNADA', 'PLAN', 'DEPARTAMENTAL']\n",
      "Número de columnas: 17\n",
      "Número de filas: 273\n",
      "----------------------------------------\n",
      "Archivo: jalapa.csv\n",
      "Encabezados: ['CODIGO', 'DISTRITO', 'DEPARTAMENTO', 'MUNICIPIO', 'ESTABLECIMIENTO', 'DIRECCION', 'TELEFONO', 'SUPERVISOR', 'DIRECTOR', 'NIVEL', 'SECTOR', 'AREA', 'STATUS', 'MODALIDAD', 'JORNADA', 'PLAN', 'DEPARTAMENTAL']\n",
      "Número de columnas: 17\n",
      "Número de filas: 121\n",
      "----------------------------------------\n",
      "Archivo: jutiapa.csv\n",
      "Encabezados: ['CODIGO', 'DISTRITO', 'DEPARTAMENTO', 'MUNICIPIO', 'ESTABLECIMIENTO', 'DIRECCION', 'TELEFONO', 'SUPERVISOR', 'DIRECTOR', 'NIVEL', 'SECTOR', 'AREA', 'STATUS', 'MODALIDAD', 'JORNADA', 'PLAN', 'DEPARTAMENTAL']\n",
      "Número de columnas: 17\n",
      "Número de filas: 296\n",
      "----------------------------------------\n",
      "Archivo: peten.csv\n",
      "Encabezados: ['CODIGO', 'DISTRITO', 'DEPARTAMENTO', 'MUNICIPIO', 'ESTABLECIMIENTO', 'DIRECCION', 'TELEFONO', 'SUPERVISOR', 'DIRECTOR', 'NIVEL', 'SECTOR', 'AREA', 'STATUS', 'MODALIDAD', 'JORNADA', 'PLAN', 'DEPARTAMENTAL']\n",
      "Número de columnas: 17\n",
      "Número de filas: 270\n",
      "----------------------------------------\n",
      "Archivo: quetzaltenango.csv\n",
      "Encabezados: ['CODIGO', 'DISTRITO', 'DEPARTAMENTO', 'MUNICIPIO', 'ESTABLECIMIENTO', 'DIRECCION', 'TELEFONO', 'SUPERVISOR', 'DIRECTOR', 'NIVEL', 'SECTOR', 'AREA', 'STATUS', 'MODALIDAD', 'JORNADA', 'PLAN', 'DEPARTAMENTAL']\n",
      "Número de columnas: 17\n",
      "Número de filas: 365\n",
      "----------------------------------------\n",
      "Archivo: quiche.csv\n",
      "Encabezados: ['CODIGO', 'DISTRITO', 'DEPARTAMENTO', 'MUNICIPIO', 'ESTABLECIMIENTO', 'DIRECCION', 'TELEFONO', 'SUPERVISOR', 'DIRECTOR', 'NIVEL', 'SECTOR', 'AREA', 'STATUS', 'MODALIDAD', 'JORNADA', 'PLAN', 'DEPARTAMENTAL']\n",
      "Número de columnas: 17\n",
      "Número de filas: 184\n",
      "----------------------------------------\n",
      "Archivo: retalhuleu.csv\n",
      "Encabezados: ['CODIGO', 'DISTRITO', 'DEPARTAMENTO', 'MUNICIPIO', 'ESTABLECIMIENTO', 'DIRECCION', 'TELEFONO', 'SUPERVISOR', 'DIRECTOR', 'NIVEL', 'SECTOR', 'AREA', 'STATUS', 'MODALIDAD', 'JORNADA', 'PLAN', 'DEPARTAMENTAL']\n",
      "Número de columnas: 17\n",
      "Número de filas: 272\n",
      "----------------------------------------\n",
      "Archivo: sacatepequez.csv\n",
      "Encabezados: ['CODIGO', 'DISTRITO', 'DEPARTAMENTO', 'MUNICIPIO', 'ESTABLECIMIENTO', 'DIRECCION', 'TELEFONO', 'SUPERVISOR', 'DIRECTOR', 'NIVEL', 'SECTOR', 'AREA', 'STATUS', 'MODALIDAD', 'JORNADA', 'PLAN', 'DEPARTAMENTAL']\n",
      "Número de columnas: 17\n",
      "Número de filas: 208\n",
      "----------------------------------------\n",
      "Archivo: san marcos.csv\n",
      "Encabezados: ['CODIGO', 'DISTRITO', 'DEPARTAMENTO', 'MUNICIPIO', 'ESTABLECIMIENTO', 'DIRECCION', 'TELEFONO', 'SUPERVISOR', 'DIRECTOR', 'NIVEL', 'SECTOR', 'AREA', 'STATUS', 'MODALIDAD', 'JORNADA', 'PLAN', 'DEPARTAMENTAL']\n",
      "Número de columnas: 17\n",
      "Número de filas: 432\n",
      "----------------------------------------\n",
      "Archivo: santa rosa.csv\n",
      "Encabezados: ['CODIGO', 'DISTRITO', 'DEPARTAMENTO', 'MUNICIPIO', 'ESTABLECIMIENTO', 'DIRECCION', 'TELEFONO', 'SUPERVISOR', 'DIRECTOR', 'NIVEL', 'SECTOR', 'AREA', 'STATUS', 'MODALIDAD', 'JORNADA', 'PLAN', 'DEPARTAMENTAL']\n",
      "Número de columnas: 17\n",
      "Número de filas: 133\n",
      "----------------------------------------\n",
      "Archivo: solola.csv\n",
      "Encabezados: ['CODIGO', 'DISTRITO', 'DEPARTAMENTO', 'MUNICIPIO', 'ESTABLECIMIENTO', 'DIRECCION', 'TELEFONO', 'SUPERVISOR', 'DIRECTOR', 'NIVEL', 'SECTOR', 'AREA', 'STATUS', 'MODALIDAD', 'JORNADA', 'PLAN', 'DEPARTAMENTAL']\n",
      "Número de columnas: 17\n",
      "Número de filas: 111\n",
      "----------------------------------------\n",
      "Archivo: suchitepequez.csv\n",
      "Encabezados: ['CODIGO', 'DISTRITO', 'DEPARTAMENTO', 'MUNICIPIO', 'ESTABLECIMIENTO', 'DIRECCION', 'TELEFONO', 'SUPERVISOR', 'DIRECTOR', 'NIVEL', 'SECTOR', 'AREA', 'STATUS', 'MODALIDAD', 'JORNADA', 'PLAN', 'DEPARTAMENTAL']\n",
      "Número de columnas: 17\n",
      "Número de filas: 296\n",
      "----------------------------------------\n",
      "Archivo: totonicapan.csv\n",
      "Encabezados: ['CODIGO', 'DISTRITO', 'DEPARTAMENTO', 'MUNICIPIO', 'ESTABLECIMIENTO', 'DIRECCION', 'TELEFONO', 'SUPERVISOR', 'DIRECTOR', 'NIVEL', 'SECTOR', 'AREA', 'STATUS', 'MODALIDAD', 'JORNADA', 'PLAN', 'DEPARTAMENTAL']\n",
      "Número de columnas: 17\n",
      "Número de filas: 51\n",
      "----------------------------------------\n",
      "Archivo: zacapa.csv\n",
      "Encabezados: ['CODIGO', 'DISTRITO', 'DEPARTAMENTO', 'MUNICIPIO', 'ESTABLECIMIENTO', 'DIRECCION', 'TELEFONO', 'SUPERVISOR', 'DIRECTOR', 'NIVEL', 'SECTOR', 'AREA', 'STATUS', 'MODALIDAD', 'JORNADA', 'PLAN', 'DEPARTAMENTAL']\n",
      "Número de columnas: 17\n",
      "Número de filas: 70\n",
      "----------------------------------------\n"
     ]
    }
   ],
   "source": [
    "def read_csv_flexible(path):\n",
    "    # Intenta varios encodings\n",
    "    for enc in ('utf-8', 'latin1', 'cp1252'):\n",
    "        try:\n",
    "            df = pd.read_csv(path, encoding=enc)\n",
    "            break\n",
    "        except UnicodeDecodeError:\n",
    "            continue\n",
    "    else:\n",
    "        df = pd.read_csv(path, encoding='latin1', engine='python')\n",
    "    df = df.loc[:, ~df.columns.str.match(r'^Unnamed')]\n",
    "    return df\n",
    "\n",
    "csv_files = glob.glob('Data/*.csv')\n",
    "total_rows = 0\n",
    "\n",
    "for csv_file in csv_files:\n",
    "    df = read_csv_flexible(csv_file)\n",
    "    name    = os.path.basename(csv_file)\n",
    "    headers = list(df.columns)\n",
    "    n_cols  = df.shape[1]\n",
    "    n_rows  = df.shape[0]\n",
    "\n",
    "    print(f\"Archivo: {name}\")\n",
    "    print(f\"Encabezados: {headers}\")\n",
    "    print(f\"Número de columnas: {n_cols}\")\n",
    "    print(f\"Número de filas: {n_rows}\")\n",
    "    print('-' * 40)\n",
    "\n",
    "    total_rows += n_rows\n"
   ]
  },
  {
   "cell_type": "markdown",
   "id": "a20da4bf",
   "metadata": {},
   "source": [
    "# Conteo General"
   ]
  },
  {
   "cell_type": "code",
   "execution_count": 10,
   "id": "b15724b6",
   "metadata": {},
   "outputs": [
    {
     "name": "stdout",
     "output_type": "stream",
     "text": [
      "Total de filas en todos los CSV: 6607\n",
      "Encabezados: ['CODIGO', 'DISTRITO', 'DEPARTAMENTO', 'MUNICIPIO', 'ESTABLECIMIENTO', 'DIRECCION', 'TELEFONO', 'SUPERVISOR', 'DIRECTOR', 'NIVEL', 'SECTOR', 'AREA', 'STATUS', 'MODALIDAD', 'JORNADA', 'PLAN', 'DEPARTAMENTAL']\n"
     ]
    }
   ],
   "source": [
    "print(f\"Total de filas en todos los CSV: {total_rows}\")\n",
    "print(f\"Encabezados: {headers}\")"
   ]
  },
  {
   "cell_type": "markdown",
   "id": "9ec419e3",
   "metadata": {},
   "source": [
    "# Combinar todos los csv"
   ]
  },
  {
   "cell_type": "code",
   "execution_count": 12,
   "id": "a56c9263",
   "metadata": {},
   "outputs": [
    {
     "name": "stdout",
     "output_type": "stream",
     "text": [
      "Unidos 23 archivos en Data/RepublicaGuatemala.csv, total filas: 6607\n"
     ]
    }
   ],
   "source": [
    "df_list = [read_csv_flexible(f) for f in csv_files]\n",
    "df_all  = pd.concat(df_list, ignore_index=True)\n",
    "\n",
    "output_path = 'Data/RepublicaGuatemala.csv'\n",
    "df_all.to_csv(output_path, index=False, encoding='utf-8-sig')\n",
    "\n",
    "print(f\"Unidos {len(csv_files)} archivos en {output_path}, total filas: {len(df_all)}\")"
   ]
  }
 ],
 "metadata": {
  "kernelspec": {
   "display_name": "Python 3",
   "language": "python",
   "name": "python3"
  },
  "language_info": {
   "codemirror_mode": {
    "name": "ipython",
    "version": 3
   },
   "file_extension": ".py",
   "mimetype": "text/x-python",
   "name": "python",
   "nbconvert_exporter": "python",
   "pygments_lexer": "ipython3",
   "version": "3.13.0"
  }
 },
 "nbformat": 4,
 "nbformat_minor": 5
}
