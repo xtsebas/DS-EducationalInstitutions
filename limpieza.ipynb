{
 "cells": [
  {
   "cell_type": "markdown",
   "id": "e8377674",
   "metadata": {},
   "source": [
    "## Imports"
   ]
  },
  {
   "cell_type": "markdown",
   "id": "767f4466",
   "metadata": {},
   "source": [
    "# CODIGO"
   ]
  },
  {
   "cell_type": "markdown",
   "id": "9eabc84d",
   "metadata": {},
   "source": [
    "# DISTRITO"
   ]
  },
  {
   "cell_type": "markdown",
   "id": "675f7f9b",
   "metadata": {},
   "source": [
    "# DEPARTAMENTO"
   ]
  },
  {
   "cell_type": "markdown",
   "id": "2521c7f2",
   "metadata": {},
   "source": [
    "# MUNICIPIO"
   ]
  },
  {
   "cell_type": "markdown",
   "id": "263ea3d5",
   "metadata": {},
   "source": [
    "# ESTABLECIMIENTO"
   ]
  },
  {
   "cell_type": "markdown",
   "id": "a64b0be9",
   "metadata": {},
   "source": [
    "# DIRECCION"
   ]
  },
  {
   "cell_type": "markdown",
   "id": "5193e8a9",
   "metadata": {},
   "source": [
    "# TELEFONO"
   ]
  },
  {
   "cell_type": "markdown",
   "id": "ede588c0",
   "metadata": {},
   "source": [
    "# SUPERVISOR"
   ]
  },
  {
   "cell_type": "markdown",
   "id": "350a2afd",
   "metadata": {},
   "source": [
    "# DIRECTOR"
   ]
  },
  {
   "cell_type": "markdown",
   "id": "34f8cb9b",
   "metadata": {},
   "source": [
    "# NIVEL"
   ]
  },
  {
   "cell_type": "markdown",
   "id": "4d354744",
   "metadata": {},
   "source": [
    "# SECTOR"
   ]
  },
  {
   "cell_type": "markdown",
   "id": "efabfc82",
   "metadata": {},
   "source": [
    "# AREA"
   ]
  },
  {
   "cell_type": "markdown",
   "id": "f00fb25f",
   "metadata": {},
   "source": [
    "# STATUS"
   ]
  },
  {
   "cell_type": "markdown",
   "id": "bcb15222",
   "metadata": {},
   "source": [
    "# MODALIDAD"
   ]
  },
  {
   "cell_type": "markdown",
   "id": "ea4ed527",
   "metadata": {},
   "source": [
    "# JORNADA"
   ]
  },
  {
   "cell_type": "markdown",
   "id": "36f7b729",
   "metadata": {},
   "source": [
    "# PLAN"
   ]
  },
  {
   "cell_type": "markdown",
   "id": "2b79e7a2",
   "metadata": {},
   "source": [
    "# DEPARTAMENTAL"
   ]
  }
 ],
 "metadata": {
  "language_info": {
   "name": "python"
  }
 },
 "nbformat": 4,
 "nbformat_minor": 5
}
